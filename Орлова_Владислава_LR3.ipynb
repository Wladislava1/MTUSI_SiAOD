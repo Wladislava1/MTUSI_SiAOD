{
 "cells": [
  {
   "cell_type": "markdown",
   "metadata": {},
   "source": [
    "# Лабораторная работа №2\n",
    "### Выполнил студент БПИ2301 Орлова Владислава"
   ]
  },
  {
   "cell_type": "markdown",
   "metadata": {},
   "source": [
    "Реализовать методы поиска в соответствии с заданием. Организовать генерацию начального набора случайных данных. Для всех вариантов добавить реализацию добавления, поиска и удаления элементов. Оценить время работы каждого алгоритма поиска и сравнить его со временем работы стандартной функции поиска, используемой в выбранном языке программирования."
   ]
  },
  {
   "cell_type": "code",
   "execution_count": 12,
   "metadata": {},
   "outputs": [
    {
     "name": "stdout",
     "output_type": "stream",
     "text": [
      "[0, 2, 11, 12, 17, 18, 22, 23, 30, 43, 58, 72, 89, 96, 101, 102, 108, 115, 116, 119, 126, 132, 147, 164, 166, 176, 182, 233, 241, 247, 275, 276, 281, 288, 297, 299, 320, 353, 354, 378, 398, 402, 412, 416, 437, 443, 447, 477, 485, 492]\n"
     ]
    }
   ],
   "source": [
    "import random\n",
    "\n",
    "def random_generate(size):\n",
    "    data = random.sample(range(size*10), size)\n",
    "    return data\n",
    "first_date = random_generate(50)\n",
    "print(sorted(first_date))\n"
   ]
  },
  {
   "cell_type": "markdown",
   "metadata": {},
   "source": [
    "### Задание №1\n"
   ]
  },
  {
   "cell_type": "markdown",
   "metadata": {},
   "source": [
    "### Бинарный поиск\n"
   ]
  },
  {
   "cell_type": "code",
   "execution_count": 43,
   "metadata": {},
   "outputs": [
    {
     "name": "stdout",
     "output_type": "stream",
     "text": [
      "Время выполнения: 1.7899961676448584e-05 секунд\n",
      "166\n"
     ]
    }
   ],
   "source": [
    "import timeit\n",
    "\n",
    "def find_num(sort_arr_nums, candidate):\n",
    "    first = 0\n",
    "    last = len(sort_arr_nums) - 1\n",
    "    while (first <= last):\n",
    "        middle = (first + last) // 2\n",
    "        if candidate == sort_arr_nums[middle]:\n",
    "            return candidate\n",
    "        if candidate < sort_arr_nums[middle]:\n",
    "            last = middle - 1\n",
    "        else:\n",
    "            first = middle + 1\n",
    "    return -1\n",
    "time = timeit.timeit(lambda: find_num(sorted(first_date), 24), number=1)\n",
    "print(f\"Время выполнения: {time} секунд\")\n",
    "print(find_num(sorted(first_date), 166))"
   ]
  },
  {
   "cell_type": "markdown",
   "metadata": {},
   "source": [
    "### Бинарное дерево\n",
    "\n"
   ]
  },
  {
   "cell_type": "code",
   "execution_count": 53,
   "metadata": {},
   "outputs": [
    {
     "name": "stdout",
     "output_type": "stream",
     "text": [
      "Время выполнения: 6.199989002197981e-06 секунд\n",
      "Всё гуд\n"
     ]
    }
   ],
   "source": [
    "class TreeNode:\n",
    "    def __init__(self, value):\n",
    "        self.value = value\n",
    "        self.left = None\n",
    "        self.right = None\n",
    "\n",
    "def insert_node(tree_root, new_value):\n",
    "    if tree_root is None:\n",
    "        return TreeNode(new_value)\n",
    "    if new_value < tree_root.value:\n",
    "        tree_root.left = insert_node(tree_root.left, new_value)\n",
    "    else:\n",
    "        tree_root.right = insert_node(tree_root.right, new_value)\n",
    "    return tree_root\n",
    "\n",
    "def find_value(tree_root, search_value):\n",
    "    if tree_root is None or tree_root.value == search_value:\n",
    "        return tree_root\n",
    "    if search_value < tree_root.value:\n",
    "        return find_value(tree_root.left, search_value)\n",
    "    return find_value(tree_root.right, search_value)\n",
    "\n",
    "tree_root = None\n",
    "for number in first_date:\n",
    "    tree_root = insert_node(tree_root, number)\n",
    "\n",
    "time = timeit.timeit(lambda: find_value(tree_root, 166), number=1)\n",
    "print(f\"Время выполнения: {time} секунд\")\n",
    "\n",
    "search_result = find_value(tree_root, 166)\n",
    "if search_result:\n",
    "    print(\"Всё гуд\")\n",
    "else:\n",
    "    print(\"Такого числа нет\")\n",
    "\n"
   ]
  },
  {
   "cell_type": "markdown",
   "metadata": {},
   "source": [
    "### Фибоначчиев\n"
   ]
  },
  {
   "cell_type": "code",
   "execution_count": 54,
   "metadata": {},
   "outputs": [
    {
     "name": "stdout",
     "output_type": "stream",
     "text": [
      "Время выполнения: 1.8400023691356182e-05 секунд\n",
      "(24, 166)\n"
     ]
    }
   ],
   "source": [
    "def search_fibonachchi(arr, target):\n",
    "    val_left2 = 0\n",
    "    val_left1 = 1\n",
    "    val = val_left1 + val_left2\n",
    "\n",
    "    while val < len(arr):\n",
    "        val_left2 = val_left1\n",
    "        val_left1 = val\n",
    "        val = val_left1 + val_left2\n",
    "\n",
    "    index = -1\n",
    "\n",
    "    while val > 1:\n",
    "        i = min(index + val_left2, len(arr) - 1)\n",
    "        if arr[i] < target:\n",
    "            val = val_left1\n",
    "            val_left1 = val_left2\n",
    "            val_left2 = val - val_left1\n",
    "            index = i\n",
    "        elif arr[i] > target:\n",
    "            val = val_left2\n",
    "            val_left1 = val_left1 - val_left2\n",
    "            val_left2 = val - val_left1\n",
    "        else:\n",
    "            return i, arr[i]\n",
    "\n",
    "    if val_left1 and index < len(arr) - 1 and arr[index + 1] == target:\n",
    "        return index + 1, arr[index + 1]\n",
    "\n",
    "    return -1\n",
    "\n",
    "time = timeit.timeit(lambda:search_fibonachchi(sorted(first_date), 166), number=1)\n",
    "print(f\"Время выполнения: {time} секунд\")\n",
    "\n",
    "print(search_fibonachchi(sorted(first_date), 166))"
   ]
  },
  {
   "cell_type": "markdown",
   "metadata": {},
   "source": [
    "### Интерполяционный\n"
   ]
  },
  {
   "cell_type": "code",
   "execution_count": 55,
   "metadata": {},
   "outputs": [
    {
     "name": "stdout",
     "output_type": "stream",
     "text": [
      "Время выполнения: 0.00010040000779554248 секунд\n",
      "(24, 166)\n"
     ]
    }
   ],
   "source": [
    "def interpolation_search(arr, val):\n",
    "    low = 0\n",
    "    high = (len(arr) - 1)\n",
    "    while low <= high and val >= arr[low] and val <= arr[high]:\n",
    "        index = low + int(((float(high - low) / ( arr[high] - arr[low])) * ( val - arr[low])))\n",
    "        if arr[index] == val:\n",
    "            return index, arr[index]\n",
    "        if arr[index] < val:\n",
    "            low = index + 1\n",
    "        else:\n",
    "            high = index - 1\n",
    "    return -1\n",
    "\n",
    "time = timeit.timeit(lambda: interpolation_search(sorted(first_date), 166), number=1)\n",
    "print(f\"Время выполнения: {time} секунд\")\n",
    "\n",
    "print(interpolation_search(sorted(first_date), 166))"
   ]
  },
  {
   "cell_type": "markdown",
   "metadata": {},
   "source": [
    "### Задание №2\n"
   ]
  },
  {
   "cell_type": "markdown",
   "metadata": {},
   "source": [
    "### Простое рехэширование"
   ]
  },
  {
   "cell_type": "code",
   "execution_count": 56,
   "metadata": {},
   "outputs": [
    {
     "name": "stdout",
     "output_type": "stream",
     "text": [
      "Время выполнения: 1.6600009985268116e-05 секунд\n",
      "Число найдено под индексом (166, 24).\n"
     ]
    }
   ],
   "source": [
    "def hash_function(key, size):\n",
    "    return key % size\n",
    "\n",
    "def rehash_function(key, attempt, size):\n",
    "    return (hash_function(key, size) + attempt) % size\n",
    "\n",
    "def search_with_rehashing(arr, target):\n",
    "    size = len(arr)\n",
    "    attempt = 0\n",
    "    index = hash_function(target, size)\n",
    "    \n",
    "    while attempt < size:\n",
    "        if arr[index] == target:\n",
    "            return arr[index], index\n",
    "        attempt += 1\n",
    "        index = rehash_function(target, attempt, size)\n",
    "    \n",
    "    return -1\n",
    "\n",
    "time = timeit.timeit(lambda: search_with_rehashing(sorted(first_date), 166), number=1)\n",
    "print(f\"Время выполнения: {time} секунд\")\n",
    "\n",
    "result = search_with_rehashing(sorted(first_date), 166)\n",
    "if result != -1:\n",
    "    print(f\"Число найдено под индексом {result}.\")\n",
    "else:\n",
    "    print(f\"Число не найдено.\")"
   ]
  },
  {
   "cell_type": "markdown",
   "metadata": {},
   "source": [
    "### Рехэширование с помощью псевдослучайных чисел\n"
   ]
  },
  {
   "cell_type": "code",
   "execution_count": 57,
   "metadata": {},
   "outputs": [
    {
     "name": "stdout",
     "output_type": "stream",
     "text": [
      "Время выполнения: 4.399975296109915e-06 секунд\n",
      "Число найдено: 166\n"
     ]
    }
   ],
   "source": [
    "class HashTable:\n",
    "    def __init__(self, size):\n",
    "        self.size = size\n",
    "        self.table = [None] * size\n",
    "\n",
    "    def hash_function(self, key):\n",
    "        return key % self.size\n",
    "\n",
    "    def rehash_function(self, key, attempt):\n",
    "        random_seed = key + attempt\n",
    "        pseudo_random = (random_seed * 48271) % 2147483647\n",
    "        return (self.hash_function(key) + pseudo_random) % self.size\n",
    "\n",
    "    def insert(self, key, value):\n",
    "        attempt = 0\n",
    "        index = self.hash_function(key)\n",
    "        \n",
    "        while self.table[index] is not None:\n",
    "            if self.table[index][0] == key:\n",
    "                self.table[index] = (key, value)\n",
    "                return\n",
    "            attempt += 1\n",
    "            index = self.rehash_function(key, attempt)\n",
    "        \n",
    "        self.table[index] = (key, value)\n",
    "\n",
    "    def search(self, key):\n",
    "        attempt = 0\n",
    "        index = self.hash_function(key)\n",
    "        \n",
    "        while self.table[index] is not None:\n",
    "            if self.table[index][0] == key:\n",
    "                return self.table[index][1]\n",
    "            attempt += 1\n",
    "            index = self.rehash_function(key, attempt)\n",
    "        \n",
    "        return -1\n",
    "    \n",
    "hash_table = HashTable(100)\n",
    "for num in first_date:\n",
    "    hash_table.insert(num, num)\n",
    "\n",
    "time = timeit.timeit(lambda: hash_table.search(166), number=1)\n",
    "print(f\"Время выполнения: {time} секунд\")\n",
    "\n",
    "result = hash_table.search(166)\n",
    "if result != -1:\n",
    "    print(f\"Число найдено: {result}\")\n",
    "else:\n",
    "    print(\"Число не найдено\")"
   ]
  },
  {
   "cell_type": "markdown",
   "metadata": {},
   "source": [
    "### Метод цепочек\n"
   ]
  },
  {
   "cell_type": "code",
   "execution_count": 58,
   "metadata": {},
   "outputs": [
    {
     "name": "stdout",
     "output_type": "stream",
     "text": [
      "Время выполнения: 4.900037311017513e-06 секунд\n",
      "Число найдено: 166\n"
     ]
    }
   ],
   "source": [
    "class HashTableChaining:\n",
    "    def __init__(self, size):\n",
    "        self.size = size\n",
    "        self.table = [None] * size\n",
    "\n",
    "    def hash_function(self, key):\n",
    "        return hash(key) % self.size\n",
    "\n",
    "    def insert(self, key, value):\n",
    "        index = self.hash_function(key)\n",
    "        if self.table[index] is None:\n",
    "            self.table[index] = [(key, value)]\n",
    "        else:\n",
    "            for i, kv in enumerate(self.table[index]):\n",
    "                k, v = kv\n",
    "                if k == key:\n",
    "                    self.table[index][i] = (key, value)\n",
    "                    return\n",
    "            self.table[index].append((key, value))\n",
    "\n",
    "    def search(self, key):\n",
    "        index = self.hash_function(key)\n",
    "        if self.table[index] is None:\n",
    "            return None\n",
    "        for k, v in self.table[index]:\n",
    "            if k == key:\n",
    "                return v\n",
    "        return None\n",
    "\n",
    "    def delete(self, key):\n",
    "        index = self.hash_function(key)\n",
    "        if self.table[index] is None:\n",
    "            return\n",
    "        for i, kv in enumerate(self.table[index]):\n",
    "            k, v = kv\n",
    "            if k == key:\n",
    "                del self.table[index][i]\n",
    "                return\n",
    "\n",
    "\n",
    "hash_table2 = HashTableChaining(100)\n",
    "for num in first_date:\n",
    "    hash_table2.insert(num, num)\n",
    "\n",
    "time = timeit.timeit(lambda: hash_table2.search(166), number=1)\n",
    "print(f\"Время выполнения: {time} секунд\")\n",
    "\n",
    "result = hash_table2.search(166)\n",
    "if result != -1:\n",
    "    print(f\"Число найдено: {result}\")\n",
    "else:\n",
    "    print(\"Число не найдено\")"
   ]
  },
  {
   "cell_type": "markdown",
   "metadata": {},
   "source": [
    "### Задание №3\n"
   ]
  },
  {
   "cell_type": "markdown",
   "metadata": {},
   "source": [
    "Расставить на стандартной 64-клеточной шахматной доске 8 ферзей так, чтобы ни один из них не находился под боем другого». Подразумевается, что ферзь бьёт все клетки, расположенные по вертикалям, горизонталям и обеим диагоналям\n",
    "Написать программу,  которая находит хотя бы один способ решения задач.\n"
   ]
  },
  {
   "cell_type": "code",
   "execution_count": 60,
   "metadata": {},
   "outputs": [
    {
     "name": "stdout",
     "output_type": "stream",
     "text": [
      "Q . . . . . . .\n",
      ". . . . Q . . .\n",
      ". . . . . . . Q\n",
      ". . . . . Q . .\n",
      ". . Q . . . . .\n",
      ". . . . . . Q .\n",
      ". Q . . . . . .\n",
      ". . . Q . . . .\n",
      "\n",
      "Время выполнения: 0.0015780999674461782 секунд\n"
     ]
    }
   ],
   "source": [
    "def is_safe(board, row, col):\n",
    "    for i in range(row):\n",
    "        if board[i] == col or \\\n",
    "           board[i] - i == col - row or \\\n",
    "           board[i] + i == col + row:\n",
    "            return False\n",
    "    return True\n",
    "\n",
    "def place_queens(board, row):\n",
    "    if row == 8:\n",
    "        return True\n",
    "    for col in range(8):\n",
    "        if is_safe(board, row, col):\n",
    "            board[row] = col\n",
    "            if place_queens(board, row + 1):\n",
    "                return True\n",
    "            board[row] = -1\n",
    "    return False\n",
    "\n",
    "def print_solution(board):\n",
    "    for row in range(8):\n",
    "        line = ['.'] * 8\n",
    "        line[board[row]] = 'Q'\n",
    "        print(' '.join(line))\n",
    "    print()\n",
    "\n",
    "def solve_n_queens():\n",
    "    board = [-1] * 8\n",
    "    if place_queens(board, 0):\n",
    "        print_solution(board)\n",
    "    else:\n",
    "        print(\"Решений не найдено\")\n",
    "\n",
    "time = timeit.timeit(lambda:solve_n_queens(), number=1)\n",
    "print(f\"Время выполнения: {time} секунд\")\n"
   ]
  }
 ],
 "metadata": {
  "kernelspec": {
   "display_name": "Python 3",
   "language": "python",
   "name": "python3"
  },
  "language_info": {
   "codemirror_mode": {
    "name": "ipython",
    "version": 3
   },
   "file_extension": ".py",
   "mimetype": "text/x-python",
   "name": "python",
   "nbconvert_exporter": "python",
   "pygments_lexer": "ipython3",
   "version": "3.11.5"
  }
 },
 "nbformat": 4,
 "nbformat_minor": 2
}
